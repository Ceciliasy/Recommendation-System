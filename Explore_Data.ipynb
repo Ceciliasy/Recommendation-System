{
 "cells": [
  {
   "cell_type": "code",
   "execution_count": 107,
   "metadata": {
    "collapsed": true
   },
   "outputs": [],
   "source": [
    "import json\n",
    "import matplotlib.pyplot as plt\n",
    "import numpy as np\n",
    "import random\n",
    "import time"
   ]
  },
  {
   "cell_type": "markdown",
   "metadata": {},
   "source": [
    "# Load data"
   ]
  },
  {
   "cell_type": "code",
   "execution_count": 25,
   "metadata": {},
   "outputs": [],
   "source": [
    "content = []\n",
    "with open(\"./data/user_dedup.json\") as f:\n",
    "    for line in f:\n",
    "        content.append(json.loads(line))"
   ]
  },
  {
   "cell_type": "code",
   "execution_count": 28,
   "metadata": {},
   "outputs": [
    {
     "name": "stdout",
     "output_type": "stream",
     "text": [
      "3041797  lines in total\n"
     ]
    }
   ],
   "source": [
    "print(len(content),\" lines in total\")"
   ]
  },
  {
   "cell_type": "markdown",
   "metadata": {},
   "source": [
    "# Group Data"
   ]
  },
  {
   "cell_type": "code",
   "execution_count": 82,
   "metadata": {
    "collapsed": true
   },
   "outputs": [],
   "source": [
    "def extract(key):\n",
    "    key_list = []\n",
    "    for line in content:\n",
    "        key_list.append(line[key])\n",
    "    return list(set(key_list))\n",
    "def group_count(key):\n",
    "    count = {}\n",
    "    for line in content:\n",
    "        if(line[key] in count):\n",
    "            count[line[key]] += 1\n",
    "        else:\n",
    "            count[line[key]] = 1\n",
    "    return count\n",
    "def report_count(data,key):\n",
    "    values = np.array(list(data.values()))\n",
    "    minimum = np.min(values)\n",
    "    maximum = np.max(values)\n",
    "    average = np.mean(values)\n",
    "    c1000 = len(values[values>1000])\n",
    "    c100 = len(values[values>100])\n",
    "    c10 = len(values[values>10])\n",
    "    c0 = len(values[values<10])\n",
    "    c1 = len(values[values == 1])\n",
    "    print(\"On average, each {} appears {} times, range from {} to {}\".format(key,average,minimum,maximum))\n",
    "    print(\"{} {} appears more than 1000\".format(c1000, key))\n",
    "    print(\"{} {} appears more than 100\".format(c100, key))\n",
    "    print(\"{} {} appears more than 10\".format(c10, key))\n",
    "    print(\"{} {} appears less than 10\".format(c0, key))\n",
    "    print(\"{} {} appears only once\".format(c1, key))"
   ]
  },
  {
   "cell_type": "code",
   "execution_count": 84,
   "metadata": {},
   "outputs": [
    {
     "name": "stdout",
     "output_type": "stream",
     "text": [
      "There are 778696  unique users\n",
      "On average, each users appears 3.906270226121619 times, range from 1 to 44557\n",
      "26 users appears more than 1000\n",
      "1211 users appears more than 100\n",
      "50742 users appears more than 10\n",
      "720863 users appears less than 10\n",
      "400180 users appears only once\n"
     ]
    }
   ],
   "source": [
    "# user\n",
    "users = extract(\"reviewerID\")\n",
    "print(\"There are\",len(users),\" unique users\")\n",
    "user_group = group_count(\"reviewerID\")\n",
    "report_count(user_group,'users')"
   ]
  },
  {
   "cell_type": "code",
   "execution_count": 86,
   "metadata": {},
   "outputs": [
    {
     "name": "stdout",
     "output_type": "stream",
     "text": [
      "There are 1435533  unique products\n",
      "On average, each products appears 2.118932131828387 times, range from 1 to 939\n",
      "0 products appears more than 1000\n",
      "651 products appears more than 100\n",
      "29714 products appears more than 10\n",
      "1400916 products appears less than 10\n",
      "1009030 products appears only once\n"
     ]
    }
   ],
   "source": [
    "# product\n",
    "products = extract(\"asin\")\n",
    "print(\"There are\",len(products),\" unique products\")\n",
    "product_group = group_count(\"asin\")\n",
    "report_count(product_group,'products')"
   ]
  },
  {
   "cell_type": "markdown",
   "metadata": {},
   "source": [
    "# Filter Data\n",
    "whether remove sparse data? What's the criterion?\n",
    "\n",
    "if necessary, remove product data, don't remove user data"
   ]
  },
  {
   "cell_type": "markdown",
   "metadata": {},
   "source": [
    "# Train/Validation/Test Split\n",
    "1. users that appears only once couldn't be validation/test data\n",
    "2. hold out out-of-matrix validation/test data and in-matrix validation/test data respectively\n",
    "3. Obtain TEST data according to above 2 constraints. Then random split TEST data into validation and test data, the formmer is for tuning hyper-parameter, the latter is for report performance"
   ]
  },
  {
   "cell_type": "code",
   "execution_count": 149,
   "metadata": {},
   "outputs": [
    {
     "name": "stdout",
     "output_type": "stream",
     "text": [
      "remove once users: 2.0579540729522705 s\n"
     ]
    },
    {
     "ename": "KeyboardInterrupt",
     "evalue": "",
     "output_type": "error",
     "traceback": [
      "\u001b[0;31m------------------------------------------------------------------------\u001b[0m",
      "\u001b[0;31mKeyboardInterrupt\u001b[0m                      Traceback (most recent call last)",
      "\u001b[0;32m<ipython-input-149-e70a8081bad3>\u001b[0m in \u001b[0;36m<module>\u001b[0;34m()\u001b[0m\n\u001b[1;32m     24\u001b[0m             \u001b[0mom_TEST\u001b[0m\u001b[0;34m.\u001b[0m\u001b[0mappend\u001b[0m\u001b[0;34m(\u001b[0m\u001b[0mline\u001b[0m\u001b[0;34m)\u001b[0m\u001b[0;34m\u001b[0m\u001b[0m\n\u001b[1;32m     25\u001b[0m             \u001b[0ms\u001b[0m \u001b[0;34m=\u001b[0m \u001b[0mi\u001b[0m\u001b[0;34m\u001b[0m\u001b[0m\n\u001b[0;32m---> 26\u001b[0;31m             \u001b[0mCANDIDATE\u001b[0m\u001b[0;34m.\u001b[0m\u001b[0mremove\u001b[0m\u001b[0;34m(\u001b[0m\u001b[0mline\u001b[0m\u001b[0;34m)\u001b[0m\u001b[0;34m\u001b[0m\u001b[0m\n\u001b[0m\u001b[1;32m     27\u001b[0m             \u001b[0;32mbreak\u001b[0m\u001b[0;34m\u001b[0m\u001b[0m\n\u001b[1;32m     28\u001b[0m \u001b[0mprint\u001b[0m\u001b[0;34m(\u001b[0m\u001b[0;34m\"choose {} out of {} products as new product in out-of-matrix test dataset\"\u001b[0m\u001b[0;34m.\u001b[0m\u001b[0mformat\u001b[0m\u001b[0;34m(\u001b[0m\u001b[0mcn_new_product\u001b[0m\u001b[0;34m,\u001b[0m\u001b[0mlen\u001b[0m\u001b[0;34m(\u001b[0m\u001b[0mproducts\u001b[0m\u001b[0;34m)\u001b[0m\u001b[0;34m)\u001b[0m\u001b[0;34m)\u001b[0m\u001b[0;34m\u001b[0m\u001b[0m\n",
      "\u001b[0;31mKeyboardInterrupt\u001b[0m: "
     ]
    }
   ],
   "source": [
    "new_product_ratio = 0.2\n",
    "im_ratio = 0.1\n",
    "val_test_ratio = 0.6\n",
    "TRAIN = []\n",
    "VAL = []\n",
    "TEST = []\n",
    "im_TEST = []\n",
    "om_TEST = []\n",
    "\n",
    "start = time.time()\n",
    "TRAIN = [line for line in content if user_group[line['reviewerID']] <= 1]\n",
    "CANDIDATE = [line for line in content if user_group[line['reviewerID']] > 1]\n",
    "cost =time.time() - start\n",
    "print(\"remove once users: {} s\".format(cost))\n",
    "start = time.time()\n",
    "# choose out-of-matrix test data\n",
    "cn_new_product = int(len(products) * new_product_ratio)\n",
    "new_product = sorted(np.random.choice(list(product_group.keys()),cn_new_product))\n",
    "SCAN = sorted(CANDIDATE,key = lambda x:x['asin'])\n",
    "s = 0\n",
    "for line in SCAN:\n",
    "    for i in range(s,len(new_product)):\n",
    "        if(line['asin'] == new_product[i] ):\n",
    "            om_TEST.append(line)\n",
    "            s = i\n",
    "            CANDIDATE.remove(line)\n",
    "            break\n",
    "print(\"choose {} out of {} products as new product in out-of-matrix test dataset\".format(cn_new_product,len(products)))\n",
    "cost =time.time() - start\n",
    "print(\"out-of-matrix: {} s\".format(cost))\n",
    "start = time.time()\n",
    "# choose in-matrix test data\n",
    "for line in CANDIDATE:\n",
    "    if(np.random.random(1)[0] < im_ratio ):\n",
    "        im_TEST.append(line)\n",
    "    else:\n",
    "        TRAIN.append(line)\n",
    "cost =time.time() - start\n",
    "print(\"in-matrix: {} s\".format(cost))\n",
    "start = time.time()\n",
    "# split TEST into validation and test\n",
    "for line in im_TEST:\n",
    "    if(np.random.random(1)[0] <  val_test_ratio):\n",
    "        VAL.append(line)\n",
    "    else:\n",
    "        TEST.append(line)\n",
    "cn_im_val = len(VAL)\n",
    "cn_im_test = len(TEST)\n",
    "print(\"{} of im_TEST feed to validation data set\".format(cn_im_val))\n",
    "print(\"{} of im_TEST feed to validation data set\".format(cn_im_test))\n",
    "for line in om_TEST:\n",
    "    if(np.random.random(1)[0] <  val_test_ratio):\n",
    "        VAL.append(line)\n",
    "    else:\n",
    "        TEST.append(line)\n",
    "cn_om_val = len(VAL) - cn_im_val\n",
    "cn_om_test = len(TEST) - cn_im_test\n",
    "print(\"{} of om_TEST feed to validation data set\".format(cn_om_val))\n",
    "print(\"{} of om_TEST feed to validation data set\".format(cn_om_test))\n",
    "print(\"TRAIN Size: {}\".format(len(TRAIN)))\n",
    "print(\"Validation Size: {}\".format(len(VAL)))\n",
    "print(\"TEST Size: {}\".format(len(TEST)))\n",
    "cost =time.time() - start\n",
    "print(\"split TEST data: {} s\".format(cost))"
   ]
  },
  {
   "cell_type": "code",
   "execution_count": null,
   "metadata": {
    "collapsed": true
   },
   "outputs": [],
   "source": []
  }
 ],
 "metadata": {
  "kernelspec": {
   "display_name": "Python 3",
   "language": "python",
   "name": "python3"
  },
  "language_info": {
   "codemirror_mode": {
    "name": "ipython",
    "version": 3
   },
   "file_extension": ".py",
   "mimetype": "text/x-python",
   "name": "python",
   "nbconvert_exporter": "python",
   "pygments_lexer": "ipython3",
   "version": "3.6.1"
  }
 },
 "nbformat": 4,
 "nbformat_minor": 2
}
