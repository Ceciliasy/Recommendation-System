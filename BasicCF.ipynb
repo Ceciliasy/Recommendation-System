{
 "cells": [
  {
   "cell_type": "code",
   "execution_count": 2,
   "metadata": {},
   "outputs": [],
   "source": [
    "import numpy as np\n",
    "import scipy.sparse as sparse\n",
    "class CF():\n",
    "    def __init__(self,rating_matrix, K, lambda_u, lambda_v,n_iter,alpha):\n",
    "        self.K = K\n",
    "        self.ratings = rating_matrix\n",
    "        self.n_iter = n_iter\n",
    "        self.lambda_u = lambda_u\n",
    "        self.lambda_v = lambda_v\n",
    "        self.alpha = alpha\n",
    "        \n",
    "        \n",
    "        self.num_users = int(numpy.max(self.ratings[:, 0]) + 1)\n",
    "        self.num_products = int(numpy.max(self.ratings[:, 1]) + 1)\n",
    "        \n",
    "        self.U = np.sqrt(1.0/lambda_u) * np.random.randn(self.num_users,K)\n",
    "        self.V = np.sqrt(1.0/lambda_v) * np.random.randn(self.num_products,K)\n",
    "        \n",
    "    def fit(self):\n",
    "        for i in range(self.n_iter):\n",
    "            # Update user vector\n",
    "            self.U = self.update(\"user\")\n",
    "            #  Update product vector\n",
    "            self.V = self.update(\"product\")\n",
    "    def update(self,target_type):\n",
    "        if target_type == \"user\":\n",
    "            num = self.num_users\n",
    "            fixed_factors = sparse.csr_matrix(self.V)\n",
    "            lambda_t = self.lambda_u\n",
    "        else:\n",
    "            num = self.num_products\n",
    "            fixed_factors = sparse.csr_matrix(self.U)\n",
    "            lambda_t = self.lambda_v\n",
    "        num_fixed = fixed_factors.shape[0]\n",
    "        eye = sparse.eye(num_fixed)\n",
    "        lambda_eye = lambda_t * eye\n",
    "        YTY = fixed_factors.T.dot(fixed_factors) \n",
    "        # accumulate YtCuY + regularization*I in A\n",
    "        A = YTY + lambda_eye\n",
    "        # accumulate YtCuPu in b\n",
    "        b = np.zeros(self.K)\n",
    "        # placeholder for solution\n",
    "        X = np.zeros((num, self.K))\n",
    "        for i in range(num):\n",
    "            Ri = self.rating(i)\n",
    "            X[i] = self.solve_equation(A,b,fixed_factors,Ri)\n",
    "        return X\n",
    "            \n",
    "    def solve_equation(self,A,b,Y,Ri):\n",
    "        # Xu = (YtCuY + regularization * I)^-1 (YtCuPu)\n",
    "        # YtCuY + regularization * I = YtY + regularization * I + Yt(Cu-I)\n",
    "\n",
    "        # accumulate YtCuY + regularization*I in A\n",
    "        # accumulate YtCuPu in b\n",
    "        for j, r in Ri:\n",
    "            factor = Y[j]\n",
    "            confidence = 1+self.alpha*r\n",
    "            if r > 0:     \n",
    "                b += confidence * factor\n",
    "                A += (confidence - 1) * np.outer(factor, factor)                \n",
    "        x = np.linalg.solve(A, b)\n",
    "        #x = spsolve(A, b)\n",
    "        return x\n",
    "    \n",
    "    def confidence(self,i):\n",
    "        self.rating_tuples\n",
    "    #def loss():\n",
    "        "
   ]
  },
  {
   "cell_type": "code",
   "execution_count": 3,
   "metadata": {},
   "outputs": [
    {
     "data": {
      "text/plain": [
       "<3x3 sparse matrix of type '<class 'numpy.float64'>'\n",
       "\twith 3 stored elements (1 diagonals) in DIAgonal format>"
      ]
     },
     "execution_count": 3,
     "metadata": {},
     "output_type": "execute_result"
    }
   ],
   "source": [
    "sparse.eye(3)"
   ]
  },
  {
   "cell_type": "code",
   "execution_count": 5,
   "metadata": {},
   "outputs": [],
   "source": [
    "a =np.zeros([2,3])"
   ]
  },
  {
   "cell_type": "code",
   "execution_count": 8,
   "metadata": {},
   "outputs": [],
   "source": [
    "a[1] = [1,2,3]"
   ]
  },
  {
   "cell_type": "code",
   "execution_count": 9,
   "metadata": {},
   "outputs": [
    {
     "data": {
      "text/plain": [
       "array([[0., 0., 0.],\n",
       "       [1., 2., 3.]])"
      ]
     },
     "execution_count": 9,
     "metadata": {},
     "output_type": "execute_result"
    }
   ],
   "source": [
    "a"
   ]
  },
  {
   "cell_type": "code",
   "execution_count": null,
   "metadata": {
    "collapsed": true
   },
   "outputs": [],
   "source": [
    "def load_matrix(filename, num_users, num_items):\n",
    "    t0 = time.time()\n",
    "    counts = sparse.dok_matrix((num_users, num_items), dtype=float)\n",
    "    total = 0.0\n",
    "    num_zeros = num_users * num_items\n",
    "    for i, line in enumerate(open(filename, 'r')):\n",
    "        user, item, count = line.strip().split('\\t')\n",
    "        user = int(user)\n",
    "        item = int(item)\n",
    "        count = float(count)\n",
    "        if user >= num_users:\n",
    "            continue\n",
    "        if item >= num_items:\n",
    "            continue\n",
    "        if count != 0:\n",
    "            counts[user, item] = count\n",
    "            total += count\n",
    "            num_zeros -= 1\n",
    "        if i % 100000 == 0:\n",
    "            print 'loaded %i counts...' % i\n",
    "    alpha = num_zeros / total\n",
    "    print 'alpha %.2f' % alpha\n",
    "    counts *= alpha\n",
    "    counts = counts.tocsr()\n",
    "    t1 = time.time()\n",
    "    print 'Finished loading matrix in %f seconds' % (t1 - t0)\n",
    "    return counts"
   ]
  }
 ],
 "metadata": {
  "kernelspec": {
   "display_name": "Python 3",
   "language": "python",
   "name": "python3"
  },
  "language_info": {
   "codemirror_mode": {
    "name": "ipython",
    "version": 3
   },
   "file_extension": ".py",
   "mimetype": "text/x-python",
   "name": "python",
   "nbconvert_exporter": "python",
   "pygments_lexer": "ipython3",
   "version": "3.6.1"
  }
 },
 "nbformat": 4,
 "nbformat_minor": 2
}
