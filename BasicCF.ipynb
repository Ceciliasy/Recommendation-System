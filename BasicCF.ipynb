{
 "cells": [
  {
   "cell_type": "code",
   "execution_count": 140,
   "metadata": {},
   "outputs": [],
   "source": [
    "import numpy as np\n",
    "import scipy.sparse as sparse\n",
    "import time\n",
    "from scipy.sparse.linalg import spsolve"
   ]
  },
  {
   "cell_type": "code",
   "execution_count": 43,
   "metadata": {},
   "outputs": [],
   "source": [
    "# reference\n",
    "def load_tuples(filename):\n",
    "    t0 = time.time()\n",
    "    rating_tuple = []\n",
    "    for i, line in enumerate(open(filename, 'r')):\n",
    "        user, item, count = line.strip().split(' ')\n",
    "        user = int(float(user))\n",
    "        item = int(float(item))\n",
    "        count = float(count)\n",
    "        rating_tuple.append([user,item,count])\n",
    "        if i % 100000 == 0:\n",
    "            print('loaded %i counts...' % i)\n",
    "    t1 = time.time()\n",
    "    print('Finished loading tuples in %f seconds' % (t1 - t0))\n",
    "    return rating_tuple\n",
    "def load_matrix(rating_tuple, num_users, num_items):\n",
    "    t0 = time.time()\n",
    "    counts = sparse.dok_matrix((num_users, num_items), dtype=float)\n",
    "    for i, r_tuple in enumerate(rating_tuple):\n",
    "        user, item, count = r_tuple\n",
    "        if user >= num_users:\n",
    "            continue\n",
    "        if item >= num_items:\n",
    "            continue\n",
    "        if count != 0:\n",
    "            counts[user, item] = count\n",
    "        if i % 100000 == 0:\n",
    "            print('loaded %i counts...' % i)\n",
    "    counts = counts.tocsr()\n",
    "    t1 = time.time()\n",
    "    print('Finished loading matrix in %f seconds' % (t1 - t0))\n",
    "    return counts"
   ]
  },
  {
   "cell_type": "code",
   "execution_count": 234,
   "metadata": {
    "collapsed": true
   },
   "outputs": [],
   "source": [
    "\n",
    "class CF():\n",
    "    def __init__(self,ratings, K=200, lambda_u=0.01, lambda_v=0.01, n_iter=1, alpha = 40, checkpoint = None):\n",
    "        self.K = K\n",
    "        self.n_iter = n_iter\n",
    "        self.lambda_u = lambda_u\n",
    "        self.lambda_v = lambda_v\n",
    "        self.alpha = alpha\n",
    "        \n",
    "        self.num_users = int(np.max(np.array(ratings)[:,0]) + 1)\n",
    "        self.num_products = int(np.max(np.array(ratings)[:,1]) + 1)\n",
    "        self.ratings = self.load_matrix(ratings)\n",
    "        if(checkpoint):\n",
    "            self.U = np.load(checkpoint+\"/matrix_u.npy\")\n",
    "            self.V = np.load(checkpoint+\"/matrix_v.npy\")\n",
    "        else:\n",
    "            self.U = np.sqrt(1.0/lambda_u) * np.random.randn(self.num_users,K)\n",
    "            self.V = np.sqrt(1.0/lambda_v) * np.random.randn(self.num_products,K)\n",
    "        \n",
    "    def fit(self):\n",
    "        for i in range(self.n_iter):\n",
    "            # Update user vector\n",
    "            self.U = self.update(\"user\")\n",
    "            #  Update product vector\n",
    "            self.V = self.update(\"product\")\n",
    "    def update(self,target_type):\n",
    "        t0 = time.time()\n",
    "        if target_type == \"user\":\n",
    "            num = self.num_users\n",
    "            Y = sparse.csr_matrix(self.V)\n",
    "            lambda_ = self.lambda_u\n",
    "        else:\n",
    "            num = self.num_products\n",
    "            Y = sparse.csr_matrix(self.U)\n",
    "            lambda_ = self.lambda_v\n",
    "        num_fixed = Y.shape[0]\n",
    "        YTY = Y.T.dot(Y) \n",
    "        # accumulate YtCuY + regularization*I in A\n",
    "        A = YTY + lambda_ * sparse.eye(self.K)\n",
    "        # accumulate YtCuPu in b\n",
    "        b = np.zeros(self.K)\n",
    "        # placeholder for solution\n",
    "        X = np.zeros((num, self.K))\n",
    "        for i in range(num):\n",
    "            Ri = self.ratings[i].T if target_type ==\"user\" else self.ratings[:i].T\n",
    "            X[i] = self.solve_equation(A,b,Y,Ri)\n",
    "        t1 = time.time()\n",
    "        print('Finished update '+target_type+' in %f seconds' % (t1 - t0))\n",
    "        return X\n",
    "            \n",
    "    def solve_equation(self,A,b,Y,Ri):\n",
    "        # Xu = (YtCuY + regularization * I)^-1 (YtCuPu)\n",
    "        # YtCuY + regularization * I = YtY + regularization * I + Yt(Cu-I)\n",
    "\n",
    "        # accumulate YtCuY + regularization*I in A\n",
    "        # accumulate YtCuPu in b\n",
    "        #import ipdb;ipdb.set_trace()\n",
    "        for j in Ri.indices:\n",
    "            factor = Y[j]\n",
    "            r = Ri[j].data[0]\n",
    "            confidence = 1+self.alpha*r\n",
    "            if r > 0:     \n",
    "                b += confidence * factor\n",
    "                assert (factor.T*factor).shape != (1,1)\n",
    "                A += (confidence - 1) * factor.T*factor \n",
    "        x = spsolve(A, b.T)\n",
    "        return x\n",
    "    \n",
    "    def predict_rate(self,user_id, product_id):\n",
    "        if(user_id >= self.num_users):\n",
    "            u_vector = np.zeros_like(self.U[0])\n",
    "        else:\n",
    "            u_vector = self.U[user_id]\n",
    "        if(product_id >= self.num_products):\n",
    "            v_vector = np.zeros_like(self.V[0])\n",
    "        else:\n",
    "            v_vector = self.V[product_id]\n",
    "        return u_vector.dot(v_vector)\n",
    "    \n",
    "    def MSE(self,test):\n",
    "        error = []\n",
    "        for user,product,target_rate in test:\n",
    "            error.append((self.predict_rate(user,product)-target_rate)**2)\n",
    "        return np.mean(error)\n",
    "    \n",
    "    def load_matrix(self,rating_tuple):\n",
    "        t0 = time.time()\n",
    "        counts = sparse.dok_matrix((self.num_users, self.num_products), dtype=float)\n",
    "        for i, r_tuple in enumerate(rating_tuple):\n",
    "            user, item, count = r_tuple\n",
    "            if user >= self.num_users:\n",
    "                continue\n",
    "            if item >= self.num_products:\n",
    "                continue\n",
    "            if count != 0:\n",
    "                counts[user, item] = count\n",
    "            if i % 100000 == 0:\n",
    "                print('loaded %i counts...' % i)\n",
    "        counts = counts.tocsr()\n",
    "        t1 = time.time()\n",
    "        print('Finished loading matrix in %f seconds' % (t1 - t0))\n",
    "        return counts\n",
    "    def save_UV(self, dir_path):\n",
    "        file_u = dir_path + \"/matrix_u.npy\"\n",
    "        file_v = dir_path + \"/matrix_v.npy\"\n",
    "        np.save(file_u, self.U)\n",
    "        np.save(file_v, self.V)"
   ]
  },
  {
   "cell_type": "code",
   "execution_count": 235,
   "metadata": {},
   "outputs": [
    {
     "name": "stdout",
     "output_type": "stream",
     "text": [
      "loaded 0 counts...\n",
      "Finished loading tuples in 0.328853 seconds\n",
      "loaded 0 counts...\n",
      "Finished loading tuples in 0.008474 seconds\n",
      "loaded 0 counts...\n",
      "Finished loading tuples in 0.012741 seconds\n",
      "loaded 0 counts...\n",
      "Finished loading matrix in 0.561984 seconds\n",
      "loaded 0 counts...\n",
      "Finished loading matrix in 0.026605 seconds\n",
      "loaded 0 counts...\n",
      "Finished loading matrix in 0.045262 seconds\n"
     ]
    }
   ],
   "source": [
    "train_file = \"./data/train_tuples.txt\"\n",
    "val_file = \"./data/val_tuples.txt\"\n",
    "test_file = \"./data/test_tuples.txt\"\n",
    "\n",
    "train_tuple = load_tuples(train_file)\n",
    "test_tuple = load_tuples(test_file)\n",
    "val_tuple = load_tuples(val_file)\n",
    "\n",
    "num_users = int(np.max(np.array(train_tuple)[:,0]))\n",
    "num_items = int(np.max(np.array(train_tuple)[:,1]))\n",
    "train_counts = load_matrix(train_tuple,num_users,num_items)\n",
    "test_counts = load_matrix(test_tuple,num_users,num_items)\n",
    "val_counts = load_matrix(val_tuple,num_users,num_items)"
   ]
  },
  {
   "cell_type": "code",
   "execution_count": 236,
   "metadata": {},
   "outputs": [
    {
     "name": "stdout",
     "output_type": "stream",
     "text": [
      "loaded 0 counts...\n",
      "Finished loading matrix in 0.518923 seconds\n"
     ]
    },
    {
     "ename": "KeyboardInterrupt",
     "evalue": "",
     "output_type": "error",
     "traceback": [
      "\u001b[0;31m---------------------------------------------------------------------------\u001b[0m",
      "\u001b[0;31mKeyboardInterrupt\u001b[0m                         Traceback (most recent call last)",
      "\u001b[0;32m<ipython-input-236-d8182ad9c1c7>\u001b[0m in \u001b[0;36m<module>\u001b[0;34m()\u001b[0m\n\u001b[1;32m      2\u001b[0m \u001b[0mcf\u001b[0m \u001b[0;34m=\u001b[0m \u001b[0mCF\u001b[0m\u001b[0;34m(\u001b[0m\u001b[0mtrain_tuple\u001b[0m\u001b[0;34m)\u001b[0m\u001b[0;34m\u001b[0m\u001b[0m\n\u001b[1;32m      3\u001b[0m \u001b[0;32mfor\u001b[0m \u001b[0mi\u001b[0m \u001b[0;32min\u001b[0m \u001b[0mrange\u001b[0m\u001b[0;34m(\u001b[0m\u001b[0mn_iter\u001b[0m\u001b[0;34m)\u001b[0m\u001b[0;34m:\u001b[0m\u001b[0;34m\u001b[0m\u001b[0m\n\u001b[0;32m----> 4\u001b[0;31m     \u001b[0mcf\u001b[0m\u001b[0;34m.\u001b[0m\u001b[0mfit\u001b[0m\u001b[0;34m(\u001b[0m\u001b[0;34m)\u001b[0m\u001b[0;34m\u001b[0m\u001b[0m\n\u001b[0m\u001b[1;32m      5\u001b[0m     \u001b[0mtrain_error\u001b[0m \u001b[0;34m=\u001b[0m \u001b[0mcf\u001b[0m\u001b[0;34m.\u001b[0m\u001b[0mMSE\u001b[0m\u001b[0;34m(\u001b[0m\u001b[0mtrain_tuples\u001b[0m\u001b[0;34m)\u001b[0m\u001b[0;34m\u001b[0m\u001b[0m\n\u001b[1;32m      6\u001b[0m     \u001b[0mval_error\u001b[0m \u001b[0;34m=\u001b[0m \u001b[0mcf\u001b[0m\u001b[0;34m.\u001b[0m\u001b[0mMSE\u001b[0m\u001b[0;34m(\u001b[0m\u001b[0mval_tuples\u001b[0m\u001b[0;34m)\u001b[0m\u001b[0;34m\u001b[0m\u001b[0m\n",
      "\u001b[0;32m<ipython-input-234-44bc1a757919>\u001b[0m in \u001b[0;36mfit\u001b[0;34m(self)\u001b[0m\n\u001b[1;32m     21\u001b[0m         \u001b[0;32mfor\u001b[0m \u001b[0mi\u001b[0m \u001b[0;32min\u001b[0m \u001b[0mrange\u001b[0m\u001b[0;34m(\u001b[0m\u001b[0mself\u001b[0m\u001b[0;34m.\u001b[0m\u001b[0mn_iter\u001b[0m\u001b[0;34m)\u001b[0m\u001b[0;34m:\u001b[0m\u001b[0;34m\u001b[0m\u001b[0m\n\u001b[1;32m     22\u001b[0m             \u001b[0;31m# Update user vector\u001b[0m\u001b[0;34m\u001b[0m\u001b[0;34m\u001b[0m\u001b[0m\n\u001b[0;32m---> 23\u001b[0;31m             \u001b[0mself\u001b[0m\u001b[0;34m.\u001b[0m\u001b[0mU\u001b[0m \u001b[0;34m=\u001b[0m \u001b[0mself\u001b[0m\u001b[0;34m.\u001b[0m\u001b[0mupdate\u001b[0m\u001b[0;34m(\u001b[0m\u001b[0;34m\"user\"\u001b[0m\u001b[0;34m)\u001b[0m\u001b[0;34m\u001b[0m\u001b[0m\n\u001b[0m\u001b[1;32m     24\u001b[0m             \u001b[0;31m#  Update product vector\u001b[0m\u001b[0;34m\u001b[0m\u001b[0;34m\u001b[0m\u001b[0m\n\u001b[1;32m     25\u001b[0m             \u001b[0mself\u001b[0m\u001b[0;34m.\u001b[0m\u001b[0mV\u001b[0m \u001b[0;34m=\u001b[0m \u001b[0mself\u001b[0m\u001b[0;34m.\u001b[0m\u001b[0mupdate\u001b[0m\u001b[0;34m(\u001b[0m\u001b[0;34m\"product\"\u001b[0m\u001b[0;34m)\u001b[0m\u001b[0;34m\u001b[0m\u001b[0m\n",
      "\u001b[0;32m<ipython-input-234-44bc1a757919>\u001b[0m in \u001b[0;36mupdate\u001b[0;34m(self, target_type)\u001b[0m\n\u001b[1;32m     44\u001b[0m         \u001b[0;32mfor\u001b[0m \u001b[0mi\u001b[0m \u001b[0;32min\u001b[0m \u001b[0mrange\u001b[0m\u001b[0;34m(\u001b[0m\u001b[0mnum\u001b[0m\u001b[0;34m)\u001b[0m\u001b[0;34m:\u001b[0m\u001b[0;34m\u001b[0m\u001b[0m\n\u001b[1;32m     45\u001b[0m             \u001b[0mRi\u001b[0m \u001b[0;34m=\u001b[0m \u001b[0mself\u001b[0m\u001b[0;34m.\u001b[0m\u001b[0mratings\u001b[0m\u001b[0;34m[\u001b[0m\u001b[0mi\u001b[0m\u001b[0;34m]\u001b[0m\u001b[0;34m.\u001b[0m\u001b[0mT\u001b[0m \u001b[0;32mif\u001b[0m \u001b[0mtarget_type\u001b[0m \u001b[0;34m==\u001b[0m\u001b[0;34m\"user\"\u001b[0m \u001b[0;32melse\u001b[0m \u001b[0mself\u001b[0m\u001b[0;34m.\u001b[0m\u001b[0mratings\u001b[0m\u001b[0;34m[\u001b[0m\u001b[0;34m:\u001b[0m\u001b[0mi\u001b[0m\u001b[0;34m]\u001b[0m\u001b[0;34m.\u001b[0m\u001b[0mT\u001b[0m\u001b[0;34m\u001b[0m\u001b[0m\n\u001b[0;32m---> 46\u001b[0;31m             \u001b[0mX\u001b[0m\u001b[0;34m[\u001b[0m\u001b[0mi\u001b[0m\u001b[0;34m]\u001b[0m \u001b[0;34m=\u001b[0m \u001b[0mself\u001b[0m\u001b[0;34m.\u001b[0m\u001b[0msolve_equation\u001b[0m\u001b[0;34m(\u001b[0m\u001b[0mA\u001b[0m\u001b[0;34m,\u001b[0m\u001b[0mb\u001b[0m\u001b[0;34m,\u001b[0m\u001b[0mY\u001b[0m\u001b[0;34m,\u001b[0m\u001b[0mRi\u001b[0m\u001b[0;34m)\u001b[0m\u001b[0;34m\u001b[0m\u001b[0m\n\u001b[0m\u001b[1;32m     47\u001b[0m         \u001b[0mt1\u001b[0m \u001b[0;34m=\u001b[0m \u001b[0mtime\u001b[0m\u001b[0;34m.\u001b[0m\u001b[0mtime\u001b[0m\u001b[0;34m(\u001b[0m\u001b[0;34m)\u001b[0m\u001b[0;34m\u001b[0m\u001b[0m\n\u001b[1;32m     48\u001b[0m         \u001b[0mprint\u001b[0m\u001b[0;34m(\u001b[0m\u001b[0;34m'Finished update '\u001b[0m\u001b[0;34m+\u001b[0m\u001b[0mtarget_type\u001b[0m\u001b[0;34m+\u001b[0m\u001b[0;34m' in %f seconds'\u001b[0m \u001b[0;34m%\u001b[0m \u001b[0;34m(\u001b[0m\u001b[0mt1\u001b[0m \u001b[0;34m-\u001b[0m \u001b[0mt0\u001b[0m\u001b[0;34m)\u001b[0m\u001b[0;34m)\u001b[0m\u001b[0;34m\u001b[0m\u001b[0m\n",
      "\u001b[0;32m<ipython-input-234-44bc1a757919>\u001b[0m in \u001b[0;36msolve_equation\u001b[0;34m(self, A, b, Y, Ri)\u001b[0m\n\u001b[1;32m     64\u001b[0m                 \u001b[0;32massert\u001b[0m \u001b[0;34m(\u001b[0m\u001b[0mfactor\u001b[0m\u001b[0;34m.\u001b[0m\u001b[0mT\u001b[0m\u001b[0;34m*\u001b[0m\u001b[0mfactor\u001b[0m\u001b[0;34m)\u001b[0m\u001b[0;34m.\u001b[0m\u001b[0mshape\u001b[0m \u001b[0;34m!=\u001b[0m \u001b[0;34m(\u001b[0m\u001b[0;36m1\u001b[0m\u001b[0;34m,\u001b[0m\u001b[0;36m1\u001b[0m\u001b[0;34m)\u001b[0m\u001b[0;34m\u001b[0m\u001b[0m\n\u001b[1;32m     65\u001b[0m                 \u001b[0mA\u001b[0m \u001b[0;34m+=\u001b[0m \u001b[0;34m(\u001b[0m\u001b[0mconfidence\u001b[0m \u001b[0;34m-\u001b[0m \u001b[0;36m1\u001b[0m\u001b[0;34m)\u001b[0m \u001b[0;34m*\u001b[0m \u001b[0mfactor\u001b[0m\u001b[0;34m.\u001b[0m\u001b[0mT\u001b[0m\u001b[0;34m*\u001b[0m\u001b[0mfactor\u001b[0m\u001b[0;34m\u001b[0m\u001b[0m\n\u001b[0;32m---> 66\u001b[0;31m         \u001b[0mx\u001b[0m \u001b[0;34m=\u001b[0m \u001b[0mspsolve\u001b[0m\u001b[0;34m(\u001b[0m\u001b[0mA\u001b[0m\u001b[0;34m,\u001b[0m \u001b[0mb\u001b[0m\u001b[0;34m.\u001b[0m\u001b[0mT\u001b[0m\u001b[0;34m)\u001b[0m\u001b[0;34m\u001b[0m\u001b[0m\n\u001b[0m\u001b[1;32m     67\u001b[0m         \u001b[0;32mreturn\u001b[0m \u001b[0mx\u001b[0m\u001b[0;34m\u001b[0m\u001b[0m\n\u001b[1;32m     68\u001b[0m \u001b[0;34m\u001b[0m\u001b[0m\n",
      "\u001b[0;32m/Users/sunny/anaconda/lib/python3.6/site-packages/scipy/sparse/linalg/dsolve/linsolve.py\u001b[0m in \u001b[0;36mspsolve\u001b[0;34m(A, b, permc_spec, use_umfpack)\u001b[0m\n\u001b[1;32m    188\u001b[0m             \u001b[0moptions\u001b[0m \u001b[0;34m=\u001b[0m \u001b[0mdict\u001b[0m\u001b[0;34m(\u001b[0m\u001b[0mColPerm\u001b[0m\u001b[0;34m=\u001b[0m\u001b[0mpermc_spec\u001b[0m\u001b[0;34m)\u001b[0m\u001b[0;34m\u001b[0m\u001b[0m\n\u001b[1;32m    189\u001b[0m             x, info = _superlu.gssv(N, A.nnz, A.data, A.indices, A.indptr,\n\u001b[0;32m--> 190\u001b[0;31m                                     b, flag, options=options)\n\u001b[0m\u001b[1;32m    191\u001b[0m             \u001b[0;32mif\u001b[0m \u001b[0minfo\u001b[0m \u001b[0;34m!=\u001b[0m \u001b[0;36m0\u001b[0m\u001b[0;34m:\u001b[0m\u001b[0;34m\u001b[0m\u001b[0m\n\u001b[1;32m    192\u001b[0m                 \u001b[0mwarn\u001b[0m\u001b[0;34m(\u001b[0m\u001b[0;34m\"Matrix is exactly singular\"\u001b[0m\u001b[0;34m,\u001b[0m \u001b[0mMatrixRankWarning\u001b[0m\u001b[0;34m)\u001b[0m\u001b[0;34m\u001b[0m\u001b[0m\n",
      "\u001b[0;31mKeyboardInterrupt\u001b[0m: "
     ]
    }
   ],
   "source": [
    "n_iter = 10\n",
    "cf = CF(train_tuple)\n",
    "for i in range(n_iter):\n",
    "    cf.fit()\n",
    "    train_error = cf.MSE(train_tuples)\n",
    "    val_error = cf.MSE(val_tuples)\n",
    "    print(\"iter: {}, train error: {}, validation error: {} \".format(i,train_error,val_error))"
   ]
  },
  {
   "cell_type": "code",
   "execution_count": 239,
   "metadata": {},
   "outputs": [],
   "source": [
    "cf.save_UV(\".\")"
   ]
  },
  {
   "cell_type": "code",
   "execution_count": 237,
   "metadata": {},
   "outputs": [
    {
     "name": "stdout",
     "output_type": "stream",
     "text": [
      "loaded 0 counts...\n",
      "Finished loading matrix in 0.525538 seconds\n"
     ]
    }
   ],
   "source": [
    "cf = CF(train_tuple,checkpoint=\".\")"
   ]
  },
  {
   "cell_type": "code",
   "execution_count": null,
   "metadata": {
    "collapsed": true
   },
   "outputs": [],
   "source": [
    "# To Do \n",
    "#save U and V\n",
    "calculate MAP and  NDCG\n",
    "cross validation to choose hyper parameter\n",
    "integrate small and big data to prince"
   ]
  }
 ],
 "metadata": {
  "kernelspec": {
   "display_name": "Python 3",
   "language": "python",
   "name": "python3"
  },
  "language_info": {
   "codemirror_mode": {
    "name": "ipython",
    "version": 3
   },
   "file_extension": ".py",
   "mimetype": "text/x-python",
   "name": "python",
   "nbconvert_exporter": "python",
   "pygments_lexer": "ipython3",
   "version": "3.6.1"
  }
 },
 "nbformat": 4,
 "nbformat_minor": 2
}
